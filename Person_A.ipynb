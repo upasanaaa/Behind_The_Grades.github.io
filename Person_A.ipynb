{
 "cells": [
  {
   "cell_type": "markdown",
   "metadata": {},
   "source": [
    "# Behind the Grades: Mental Health Trends in Indian Students\n"
   ]
  },
  {
   "cell_type": "markdown",
   "metadata": {},
   "source": [
    "### Motivation\n",
    "\n",
    "Our project explores the Student Depression Dataset from Kaggle, which contains survey responses from approximately 28,000 university students across India. The dataset provides comprehensive insights into student mental health, including 18 different metrics for each student: depression status, academic performance (CGPA), lifestyle habits (sleep patterns, social media usage), basic demographics (age, gender), and important mental health indicators (presence of suicidal thoughts, family history of mental illness). This well-structured information allows us to analyze both the prevalence and potential causes of depression among Indian students.\n",
    "\n",
    "We selected this dataset because student mental health represents a critical yet frequently overlooked issue. With more than 60% of students in the dataset reporting depression symptoms, we identified an important opportunity to illuminate the challenges that exist beneath the surface of academic achievement. Being students ourselves, we relate to these difficulties and wanted to develop visualizations that could help others identify warning signs and better understand the various factors that influence mental wellbeing in educational environments.\n",
    "\n",
    "Our main objective was to create an accessible narrative that effectively communicates the complex nature of student mental health. Rather than presenting only statistics, we aimed to convey the real human experiences behind the numbers. Through clear visualizations and thoughtful analysis, we sought to demonstrate how factors such as academic pressure, sleep quality, and social media habits connect with depression. By designing our website as a progressive journey from basic statistics to more nuanced relationships, we intended to create a resource valuable to educators, parents, and students alike, potentially contributing to increased awareness and improved support systems."
   ]
  },
  {
   "cell_type": "markdown",
   "metadata": {},
   "source": [
    "### Dataset:\n",
    "This comprehensive dataset was obtained from Kaggle's public repository and loaded using the kagglehub API for reproducible analysis. The data is structured in tabular format with each row representing an individual student's survey response.\n",
    "\n",
    "Source: https://www.kaggle.com/datasets/adilshamim8/student-depression-dataset"
   ]
  },
  {
   "cell_type": "code",
   "execution_count": 2,
   "metadata": {},
   "outputs": [
    {
     "name": "stderr",
     "output_type": "stream",
     "text": [
      "e:\\DTU\\Sem 2\\Social data Analysis\\02806_Final_Project.github.io\\venv\\Lib\\site-packages\\tqdm\\auto.py:21: TqdmWarning: IProgress not found. Please update jupyter and ipywidgets. See https://ipywidgets.readthedocs.io/en/stable/user_install.html\n",
      "  from .autonotebook import tqdm as notebook_tqdm\n"
     ]
    },
    {
     "name": "stdout",
     "output_type": "stream",
     "text": [
      "Path to dataset files: C:\\Users\\UPASANA\\.cache\\kagglehub\\datasets\\adilshamim8\\student-depression-dataset\\versions\\1\n",
      "Files in dataset: ['student_depression_dataset.csv']\n"
     ]
    }
   ],
   "source": [
    "import kagglehub\n",
    "import pandas as pd\n",
    "import os\n",
    "\n",
    "path = kagglehub.dataset_download(\"adilshamim8/student-depression-dataset\")\n",
    "\n",
    "print(\"Path to dataset files:\", path)\n",
    "\n",
    "\n",
    "print(\"Files in dataset:\", os.listdir(path))\n",
    "csv_path = os.path.join(path, \"student_depression_dataset.csv\")\n",
    "df = pd.read_csv(csv_path)"
   ]
  },
  {
   "cell_type": "markdown",
   "metadata": {},
   "source": [
    "### Basic stats"
   ]
  },
  {
   "cell_type": "code",
   "execution_count": 3,
   "metadata": {},
   "outputs": [
    {
     "name": "stdout",
     "output_type": "stream",
     "text": [
      "<class 'pandas.core.frame.DataFrame'>\n",
      "RangeIndex: 27901 entries, 0 to 27900\n",
      "Data columns (total 18 columns):\n",
      " #   Column                                 Non-Null Count  Dtype  \n",
      "---  ------                                 --------------  -----  \n",
      " 0   id                                     27901 non-null  int64  \n",
      " 1   Gender                                 27901 non-null  object \n",
      " 2   Age                                    27901 non-null  float64\n",
      " 3   City                                   27901 non-null  object \n",
      " 4   Profession                             27901 non-null  object \n",
      " 5   Academic Pressure                      27901 non-null  float64\n",
      " 6   Work Pressure                          27901 non-null  float64\n",
      " 7   CGPA                                   27901 non-null  float64\n",
      " 8   Study Satisfaction                     27901 non-null  float64\n",
      " 9   Job Satisfaction                       27901 non-null  float64\n",
      " 10  Sleep Duration                         27901 non-null  object \n",
      " 11  Dietary Habits                         27901 non-null  object \n",
      " 12  Degree                                 27901 non-null  object \n",
      " 13  Have you ever had suicidal thoughts ?  27901 non-null  object \n",
      " 14  Work/Study Hours                       27901 non-null  float64\n",
      " 15  Financial Stress                       27901 non-null  object \n",
      " 16  Family History of Mental Illness       27901 non-null  object \n",
      " 17  Depression                             27901 non-null  int64  \n",
      "dtypes: float64(7), int64(2), object(9)\n",
      "memory usage: 3.8+ MB\n",
      "None\n",
      "id                                       0\n",
      "Gender                                   0\n",
      "Age                                      0\n",
      "City                                     0\n",
      "Profession                               0\n",
      "Academic Pressure                        0\n",
      "Work Pressure                            0\n",
      "CGPA                                     0\n",
      "Study Satisfaction                       0\n",
      "Job Satisfaction                         0\n",
      "Sleep Duration                           0\n",
      "Dietary Habits                           0\n",
      "Degree                                   0\n",
      "Have you ever had suicidal thoughts ?    0\n",
      "Work/Study Hours                         0\n",
      "Financial Stress                         0\n",
      "Family History of Mental Illness         0\n",
      "Depression                               0\n",
      "dtype: int64\n"
     ]
    }
   ],
   "source": [
    "print(df.info())\n",
    "print(df.isna().sum())"
   ]
  },
  {
   "cell_type": "code",
   "execution_count": 4,
   "metadata": {},
   "outputs": [
    {
     "name": "stdout",
     "output_type": "stream",
     "text": [
      "<class 'pandas.core.frame.DataFrame'>\n",
      "RangeIndex: 27901 entries, 0 to 27900\n",
      "Data columns (total 22 columns):\n",
      " #   Column                  Non-Null Count  Dtype  \n",
      "---  ------                  --------------  -----  \n",
      " 0   id                      27901 non-null  int64  \n",
      " 1   Gender                  27901 non-null  object \n",
      " 2   Age                     27901 non-null  float64\n",
      " 3   City                    27901 non-null  object \n",
      " 4   Profession              27901 non-null  object \n",
      " 5   Academic_Pressure       27901 non-null  float64\n",
      " 6   Work_Pressure           27901 non-null  float64\n",
      " 7   CGPA                    27901 non-null  float64\n",
      " 8   Study_Satisfaction      27901 non-null  float64\n",
      " 9   Job_Satisfaction        27901 non-null  float64\n",
      " 10  Sleep_Duration          27901 non-null  object \n",
      " 11  Dietary_Habits          27901 non-null  object \n",
      " 12  Degree                  27901 non-null  object \n",
      " 13  Suicidal_Thoughts       27901 non-null  object \n",
      " 14  Work_Study_Hours        27901 non-null  float64\n",
      " 15  Financial_Stress        27901 non-null  object \n",
      " 16  Family_History          27901 non-null  object \n",
      " 17  Depression              27901 non-null  int64  \n",
      " 18  Suicidal_Thoughts       27901 non-null  int64  \n",
      " 19  Family_History          27901 non-null  int64  \n",
      " 20  Financial_Stress_Score  0 non-null      float64\n",
      " 21  Sleep_Hours             0 non-null      float64\n",
      "dtypes: float64(9), int64(4), object(9)\n",
      "memory usage: 4.7+ MB\n",
      "None\n"
     ]
    }
   ],
   "source": [
    "df_clean = df.copy()\n",
    "\n",
    "# binary conversion: convert 'Yes'/'No' to 1/0\n",
    "df_clean['Suicidal_Thoughts'] = df_clean['Have you ever had suicidal thoughts ?'].map({'Yes': 1, 'No': 0})\n",
    "df_clean['Family_History'] = df_clean['Family History of Mental Illness'].map({'Yes': 1, 'No': 0})\n",
    "\n",
    "# ordinal encoding: map 'Financial Stress' to numeric \n",
    "financial_stress_map = {'Low': 1, 'Medium': 2, 'High': 3}\n",
    "df_clean['Financial_Stress_Score'] = df_clean['Financial Stress'].map(financial_stress_map)\n",
    "\n",
    "# map 'Sleep Duration' to estimated hours\n",
    "sleep_duration_map = {\n",
    "    'Less than 5 hours': 4,\n",
    "    '5-6 hours': 5.5,\n",
    "    '7-8 hours': 7.5,\n",
    "    'More than 8 hours': 9\n",
    "}\n",
    "df_clean['Sleep_Hours'] = df_clean['Sleep Duration'].map(sleep_duration_map)\n",
    "\n",
    "# rename columns\n",
    "df_clean.rename(columns={\n",
    "    'Work/Study Hours': 'Work_Study_Hours',\n",
    "    'Job Satisfaction': 'Job_Satisfaction',\n",
    "    'Study Satisfaction': 'Study_Satisfaction',\n",
    "    'Academic Pressure': 'Academic_Pressure',\n",
    "    'Work Pressure': 'Work_Pressure',\n",
    "    'Have you ever had suicidal thoughts ?': 'Suicidal_Thoughts',\n",
    "    'Sleep Duration': 'Sleep_Duration',\n",
    "    'Dietary Habits': 'Dietary_Habits',\n",
    "    'Financial Stress': 'Financial_Stress',\n",
    "    'Family History of Mental Illness': 'Family_History',\n",
    "}, inplace=True)\n",
    "\n",
    "\n",
    "print(df_clean.info())"
   ]
  },
  {
   "cell_type": "code",
   "execution_count": 5,
   "metadata": {},
   "outputs": [
    {
     "name": "stdout",
     "output_type": "stream",
     "text": [
      "Index(['id', 'Age', 'City', 'Academic_Pressure', 'Work_Pressure', 'CGPA',\n",
      "       'Study_Satisfaction', 'Job_Satisfaction', 'Sleep_Duration',\n",
      "       'Dietary_Habits', 'Degree', 'Suicidal_Thoughts', 'Work_Study_Hours',\n",
      "       'Financial_Stress', 'Family_History', 'Depression', 'Suicidal_Thoughts',\n",
      "       'Family_History', 'Financial_Stress_Score', 'Sleep_Hours',\n",
      "       'Gender_Male', 'Profession_'Content Writer'',\n",
      "       'Profession_'Digital Marketer'', 'Profession_'Educational Consultant'',\n",
      "       'Profession_'UX/UI Designer'', 'Profession_Architect',\n",
      "       'Profession_Chef', 'Profession_Doctor', 'Profession_Entrepreneur',\n",
      "       'Profession_Lawyer', 'Profession_Manager', 'Profession_Pharmacist',\n",
      "       'Profession_Student', 'Profession_Teacher'],\n",
      "      dtype='object')\n",
      "<class 'pandas.core.frame.DataFrame'>\n",
      "RangeIndex: 27901 entries, 0 to 27900\n",
      "Data columns (total 34 columns):\n",
      " #   Column                               Non-Null Count  Dtype  \n",
      "---  ------                               --------------  -----  \n",
      " 0   id                                   27901 non-null  int64  \n",
      " 1   Age                                  27901 non-null  float64\n",
      " 2   City                                 27901 non-null  object \n",
      " 3   Academic_Pressure                    27901 non-null  float64\n",
      " 4   Work_Pressure                        27901 non-null  float64\n",
      " 5   CGPA                                 27901 non-null  float64\n",
      " 6   Study_Satisfaction                   27901 non-null  float64\n",
      " 7   Job_Satisfaction                     27901 non-null  float64\n",
      " 8   Sleep_Duration                       27901 non-null  object \n",
      " 9   Dietary_Habits                       27901 non-null  object \n",
      " 10  Degree                               27901 non-null  object \n",
      " 11  Suicidal_Thoughts                    27901 non-null  object \n",
      " 12  Work_Study_Hours                     27901 non-null  float64\n",
      " 13  Financial_Stress                     27901 non-null  object \n",
      " 14  Family_History                       27901 non-null  object \n",
      " 15  Depression                           27901 non-null  int64  \n",
      " 16  Suicidal_Thoughts                    27901 non-null  int64  \n",
      " 17  Family_History                       27901 non-null  int64  \n",
      " 18  Financial_Stress_Score               0 non-null      float64\n",
      " 19  Sleep_Hours                          0 non-null      float64\n",
      " 20  Gender_Male                          27901 non-null  bool   \n",
      " 21  Profession_'Content Writer'          27901 non-null  bool   \n",
      " 22  Profession_'Digital Marketer'        27901 non-null  bool   \n",
      " 23  Profession_'Educational Consultant'  27901 non-null  bool   \n",
      " 24  Profession_'UX/UI Designer'          27901 non-null  bool   \n",
      " 25  Profession_Architect                 27901 non-null  bool   \n",
      " 26  Profession_Chef                      27901 non-null  bool   \n",
      " 27  Profession_Doctor                    27901 non-null  bool   \n",
      " 28  Profession_Entrepreneur              27901 non-null  bool   \n",
      " 29  Profession_Lawyer                    27901 non-null  bool   \n",
      " 30  Profession_Manager                   27901 non-null  bool   \n",
      " 31  Profession_Pharmacist                27901 non-null  bool   \n",
      " 32  Profession_Student                   27901 non-null  bool   \n",
      " 33  Profession_Teacher                   27901 non-null  bool   \n",
      "dtypes: bool(14), float64(9), int64(4), object(7)\n",
      "memory usage: 4.6+ MB\n",
      "None\n",
      "   id   Age           City  Academic_Pressure  Work_Pressure  CGPA  \\\n",
      "0   2  33.0  Visakhapatnam                5.0            0.0  8.97   \n",
      "1   8  24.0      Bangalore                2.0            0.0  5.90   \n",
      "2  26  31.0       Srinagar                3.0            0.0  7.03   \n",
      "3  30  28.0       Varanasi                3.0            0.0  5.59   \n",
      "4  32  25.0         Jaipur                4.0            0.0  8.13   \n",
      "\n",
      "   Study_Satisfaction  Job_Satisfaction       Sleep_Duration Dietary_Habits  \\\n",
      "0                 2.0               0.0          '5-6 hours'        Healthy   \n",
      "1                 5.0               0.0          '5-6 hours'       Moderate   \n",
      "2                 5.0               0.0  'Less than 5 hours'        Healthy   \n",
      "3                 2.0               0.0          '7-8 hours'       Moderate   \n",
      "4                 3.0               0.0          '5-6 hours'       Moderate   \n",
      "\n",
      "   ... Profession_'UX/UI Designer' Profession_Architect  Profession_Chef  \\\n",
      "0  ...                       False                False            False   \n",
      "1  ...                       False                False            False   \n",
      "2  ...                       False                False            False   \n",
      "3  ...                       False                False            False   \n",
      "4  ...                       False                False            False   \n",
      "\n",
      "  Profession_Doctor Profession_Entrepreneur  Profession_Lawyer  \\\n",
      "0             False                   False              False   \n",
      "1             False                   False              False   \n",
      "2             False                   False              False   \n",
      "3             False                   False              False   \n",
      "4             False                   False              False   \n",
      "\n",
      "   Profession_Manager  Profession_Pharmacist  Profession_Student  \\\n",
      "0               False                  False                True   \n",
      "1               False                  False                True   \n",
      "2               False                  False                True   \n",
      "3               False                  False                True   \n",
      "4               False                  False                True   \n",
      "\n",
      "   Profession_Teacher  \n",
      "0               False  \n",
      "1               False  \n",
      "2               False  \n",
      "3               False  \n",
      "4               False  \n",
      "\n",
      "[5 rows x 34 columns]\n"
     ]
    }
   ],
   "source": [
    "# one-hot encode 'Gender' and 'Profession'\n",
    "df_encoded = pd.get_dummies(df_clean, columns=['Gender', 'Profession'], drop_first=True)\n",
    "print(df_encoded.columns)\n",
    "print(df_encoded.info())\n",
    "print(df_encoded.head())\n",
    "#df_encoded.to_csv(\"student_depression_cleaned.csv\", index=False)"
   ]
  },
  {
   "cell_type": "code",
   "execution_count": null,
   "metadata": {},
   "outputs": [
    {
     "ename": "OSError",
     "evalue": "'seaborn-pastel' is not a valid package style, path of style file, URL of style file, or library style name (library styles are listed in `style.available`)",
     "output_type": "error",
     "traceback": [
      "\u001b[31m---------------------------------------------------------------------------\u001b[39m",
      "\u001b[31mFileNotFoundError\u001b[39m                         Traceback (most recent call last)",
      "\u001b[36mFile \u001b[39m\u001b[32me:\\DTU\\Sem 2\\Social data Analysis\\02806_Final_Project.github.io\\venv\\Lib\\site-packages\\matplotlib\\style\\core.py:129\u001b[39m, in \u001b[36muse\u001b[39m\u001b[34m(style)\u001b[39m\n\u001b[32m    128\u001b[39m \u001b[38;5;28;01mtry\u001b[39;00m:\n\u001b[32m--> \u001b[39m\u001b[32m129\u001b[39m     style = \u001b[43m_rc_params_in_file\u001b[49m\u001b[43m(\u001b[49m\u001b[43mstyle\u001b[49m\u001b[43m)\u001b[49m\n\u001b[32m    130\u001b[39m \u001b[38;5;28;01mexcept\u001b[39;00m \u001b[38;5;167;01mOSError\u001b[39;00m \u001b[38;5;28;01mas\u001b[39;00m err:\n",
      "\u001b[36mFile \u001b[39m\u001b[32me:\\DTU\\Sem 2\\Social data Analysis\\02806_Final_Project.github.io\\venv\\Lib\\site-packages\\matplotlib\\__init__.py:903\u001b[39m, in \u001b[36m_rc_params_in_file\u001b[39m\u001b[34m(fname, transform, fail_on_error)\u001b[39m\n\u001b[32m    902\u001b[39m rc_temp = {}\n\u001b[32m--> \u001b[39m\u001b[32m903\u001b[39m \u001b[43m\u001b[49m\u001b[38;5;28;43;01mwith\u001b[39;49;00m\u001b[43m \u001b[49m\u001b[43m_open_file_or_url\u001b[49m\u001b[43m(\u001b[49m\u001b[43mfname\u001b[49m\u001b[43m)\u001b[49m\u001b[43m \u001b[49m\u001b[38;5;28;43;01mas\u001b[39;49;00m\u001b[43m \u001b[49m\u001b[43mfd\u001b[49m\u001b[43m:\u001b[49m\n\u001b[32m    904\u001b[39m \u001b[43m    \u001b[49m\u001b[38;5;28;43;01mtry\u001b[39;49;00m\u001b[43m:\u001b[49m\n",
      "\u001b[36mFile \u001b[39m\u001b[32me:\\DTU\\Sem 2\\Social data Analysis\\02806_Final_Project.github.io\\venv\\Lib\\contextlib.py:137\u001b[39m, in \u001b[36m_GeneratorContextManager.__enter__\u001b[39m\u001b[34m(self)\u001b[39m\n\u001b[32m    136\u001b[39m \u001b[38;5;28;01mtry\u001b[39;00m:\n\u001b[32m--> \u001b[39m\u001b[32m137\u001b[39m     \u001b[38;5;28;01mreturn\u001b[39;00m \u001b[38;5;28mnext\u001b[39m(\u001b[38;5;28mself\u001b[39m.gen)\n\u001b[32m    138\u001b[39m \u001b[38;5;28;01mexcept\u001b[39;00m \u001b[38;5;167;01mStopIteration\u001b[39;00m:\n",
      "\u001b[36mFile \u001b[39m\u001b[32me:\\DTU\\Sem 2\\Social data Analysis\\02806_Final_Project.github.io\\venv\\Lib\\site-packages\\matplotlib\\__init__.py:880\u001b[39m, in \u001b[36m_open_file_or_url\u001b[39m\u001b[34m(fname)\u001b[39m\n\u001b[32m    879\u001b[39m fname = os.path.expanduser(fname)\n\u001b[32m--> \u001b[39m\u001b[32m880\u001b[39m \u001b[38;5;28;01mwith\u001b[39;00m \u001b[38;5;28mopen\u001b[39m(fname, encoding=\u001b[33m'\u001b[39m\u001b[33mutf-8\u001b[39m\u001b[33m'\u001b[39m) \u001b[38;5;28;01mas\u001b[39;00m f:\n\u001b[32m    881\u001b[39m     \u001b[38;5;28;01myield\u001b[39;00m f\n",
      "\u001b[31mFileNotFoundError\u001b[39m: [Errno 2] No such file or directory: 'seaborn-pastel'",
      "\nThe above exception was the direct cause of the following exception:\n",
      "\u001b[31mOSError\u001b[39m                                   Traceback (most recent call last)",
      "\u001b[36mCell\u001b[39m\u001b[36m \u001b[39m\u001b[32mIn[6]\u001b[39m\u001b[32m, line 13\u001b[39m\n\u001b[32m     11\u001b[39m \u001b[38;5;66;03m# Create figure with a specific size and style\u001b[39;00m\n\u001b[32m     12\u001b[39m plt.figure(figsize=(\u001b[32m10\u001b[39m, \u001b[32m8\u001b[39m))\n\u001b[32m---> \u001b[39m\u001b[32m13\u001b[39m \u001b[43mplt\u001b[49m\u001b[43m.\u001b[49m\u001b[43mstyle\u001b[49m\u001b[43m.\u001b[49m\u001b[43muse\u001b[49m\u001b[43m(\u001b[49m\u001b[33;43m'\u001b[39;49m\u001b[33;43mseaborn-pastel\u001b[39;49m\u001b[33;43m'\u001b[39;49m\u001b[43m)\u001b[49m  \u001b[38;5;66;03m# Use 'seaborn-pastel' for older versions or 'seaborn-v0_8-pastel' for newer versions\u001b[39;00m\n\u001b[32m     15\u001b[39m \u001b[38;5;66;03m# Define colors\u001b[39;00m\n\u001b[32m     16\u001b[39m colors = [\u001b[33m'\u001b[39m\u001b[33m#3A5E8C\u001b[39m\u001b[33m'\u001b[39m, \u001b[33m'\u001b[39m\u001b[33m#90CCF4\u001b[39m\u001b[33m'\u001b[39m]\n",
      "\u001b[36mFile \u001b[39m\u001b[32me:\\DTU\\Sem 2\\Social data Analysis\\02806_Final_Project.github.io\\venv\\Lib\\site-packages\\matplotlib\\style\\core.py:131\u001b[39m, in \u001b[36muse\u001b[39m\u001b[34m(style)\u001b[39m\n\u001b[32m    129\u001b[39m         style = _rc_params_in_file(style)\n\u001b[32m    130\u001b[39m     \u001b[38;5;28;01mexcept\u001b[39;00m \u001b[38;5;167;01mOSError\u001b[39;00m \u001b[38;5;28;01mas\u001b[39;00m err:\n\u001b[32m--> \u001b[39m\u001b[32m131\u001b[39m         \u001b[38;5;28;01mraise\u001b[39;00m \u001b[38;5;167;01mOSError\u001b[39;00m(\n\u001b[32m    132\u001b[39m             \u001b[33mf\u001b[39m\u001b[33m\"\u001b[39m\u001b[38;5;132;01m{\u001b[39;00mstyle\u001b[38;5;132;01m!r}\u001b[39;00m\u001b[33m is not a valid package style, path of style \u001b[39m\u001b[33m\"\u001b[39m\n\u001b[32m    133\u001b[39m             \u001b[33mf\u001b[39m\u001b[33m\"\u001b[39m\u001b[33mfile, URL of style file, or library style name (library \u001b[39m\u001b[33m\"\u001b[39m\n\u001b[32m    134\u001b[39m             \u001b[33mf\u001b[39m\u001b[33m\"\u001b[39m\u001b[33mstyles are listed in `style.available`)\u001b[39m\u001b[33m\"\u001b[39m) \u001b[38;5;28;01mfrom\u001b[39;00m\u001b[38;5;250m \u001b[39m\u001b[34;01merr\u001b[39;00m\n\u001b[32m    135\u001b[39m filtered = {}\n\u001b[32m    136\u001b[39m \u001b[38;5;28;01mfor\u001b[39;00m k \u001b[38;5;129;01min\u001b[39;00m style:  \u001b[38;5;66;03m# don't trigger RcParams.__getitem__('backend')\u001b[39;00m\n",
      "\u001b[31mOSError\u001b[39m: 'seaborn-pastel' is not a valid package style, path of style file, URL of style file, or library style name (library styles are listed in `style.available`)"
     ]
    },
    {
     "data": {
      "text/plain": [
       "<Figure size 1000x800 with 0 Axes>"
      ]
     },
     "metadata": {},
     "output_type": "display_data"
    }
   ],
   "source": [
    "import matplotlib.pyplot as plt\n",
    "import seaborn as sns\n",
    "# -------------------------\n",
    "# Depression Prevalence Pie Chart\n",
    "# -------------------------\n",
    "\n",
    "# Count depressed vs non-depressed students\n",
    "depression_counts = df['Depression'].value_counts()\n",
    "depression_percentage = depression_counts / len(df) * 100\n",
    "\n",
    "# Create figure with a specific size\n",
    "plt.figure(figsize=(10, 8))\n",
    "\n",
    "# Define colors\n",
    "colors = ['#3A5E8C', '#90CCF4']\n",
    "\n",
    "# Create pie chart\n",
    "plt.pie([depression_percentage[1], depression_percentage[0]], \n",
    "        labels=['Depressed', 'Not Depressed'],\n",
    "        autopct='%1.1f%%',\n",
    "        startangle=90,\n",
    "        colors=colors,\n",
    "        wedgeprops={'edgecolor': 'white', 'linewidth': 2},\n",
    "        textprops={'fontsize': 14, 'fontweight': 'bold'},\n",
    "        explode=(0.05, 0))\n",
    "\n",
    "# Add a circle at the center to create a donut chart (optional)\n",
    "centre_circle = plt.Circle((0,0), 0.5, fc='white')\n",
    "fig = plt.gcf()\n",
    "fig.gca().add_artist(centre_circle)\n",
    "\n",
    "# Add title and subtitle\n",
    "plt.title('Depression Prevalence Among Indian Students', fontsize=18, fontweight='bold', pad=20)\n",
    "plt.figtext(0.5, 0.01, f'Based on survey of {len(df)} university students', \n",
    "            ha='center', fontsize=12, fontstyle='italic')\n",
    "\n",
    "# Add annotations\n",
    "plt.annotate(f\"Total: {depression_counts[1]} students\", \n",
    "             xy=(-0.4, -1.3), fontsize=12)\n",
    "plt.annotate(f\"Total: {depression_counts[0]} students\", \n",
    "             xy=(0.4, -1.3), fontsize=12)\n",
    "\n",
    "# Improve layout\n",
    "plt.tight_layout()\n",
    "\n",
    "# Display the chart\n",
    "plt.show()\n",
    "\n",
    "# Uncomment to save the figure\n",
    "# plt.savefig('depression_prevalence_pie.png', dpi=300, bbox_inches='tight')"
   ]
  }
 ],
 "metadata": {
  "kernelspec": {
   "display_name": "Python 3",
   "language": "python",
   "name": "python3"
  },
  "language_info": {
   "codemirror_mode": {
    "name": "ipython",
    "version": 3
   },
   "file_extension": ".py",
   "mimetype": "text/x-python",
   "name": "python",
   "nbconvert_exporter": "python",
   "pygments_lexer": "ipython3",
   "version": "3.11.11"
  },
  "orig_nbformat": 4
 },
 "nbformat": 4,
 "nbformat_minor": 2
}
